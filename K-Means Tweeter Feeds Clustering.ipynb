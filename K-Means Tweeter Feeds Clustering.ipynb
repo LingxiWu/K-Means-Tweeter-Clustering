{
 "cells": [
  {
   "cell_type": "code",
   "execution_count": 20,
   "metadata": {},
   "outputs": [],
   "source": [
    "import string\n",
    "import nltk\n",
    "from nltk.corpus import stopwords\n",
    "#nltk.download() # only need to download for once."
   ]
  },
  {
   "cell_type": "code",
   "execution_count": 21,
   "metadata": {},
   "outputs": [],
   "source": [
    "def clean_up_tweet(tweet):\n",
    "    \n",
    "    # remove punctuations.\n",
    "    for p in string.punctuation:\n",
    "        tweet = tweet.replace(p,'')\n",
    "    \n",
    "    tweet = tweet.split(' ')\n",
    "    \n",
    "    # remove stop words.\n",
    "    stopWords = set(stopwords.words('english'))\n",
    "    filtered = []\n",
    "    for w in tweet:\n",
    "        if w not in stopWords:\n",
    "            filtered.append(w)\n",
    "     \n",
    "    # remove redundance.\n",
    "    tweet_set = set(filtered)\n",
    "\n",
    "    return tweet_set\n"
   ]
  },
  {
   "cell_type": "code",
   "execution_count": 22,
   "metadata": {},
   "outputs": [],
   "source": [
    "# find the intersection of two tweets\n",
    "\n",
    "def intersection(tweet1, tweet2):\n",
    "\n",
    "    counter = 0\n",
    "    for word1 in tweet1:\n",
    "        for word2 in tweet2:\n",
    "            if(word1 == word2):\n",
    "                counter += 1\n",
    "            \n",
    "    return counter"
   ]
  },
  {
   "cell_type": "code",
   "execution_count": 27,
   "metadata": {},
   "outputs": [],
   "source": [
    "def union(tweet1, tweet2):\n",
    "    return len(tweet1) + len(tweet2) - intersection(tweet1,tweet2)"
   ]
  },
  {
   "cell_type": "code",
   "execution_count": 28,
   "metadata": {
    "collapsed": true
   },
   "outputs": [],
   "source": [
    "def jaccard_distance(tweet1, tweet2):\n",
    "    return 1 - (intersection(tweet1, tweet2)/union(tweet1, tweet2))"
   ]
  },
  {
   "cell_type": "code",
   "execution_count": 29,
   "metadata": {},
   "outputs": [
    {
     "name": "stdout",
     "output_type": "stream",
     "text": [
      "{'scary', 'weather'}\n",
      "{'nice', 'weather'}\n",
      "1\n",
      "3\n",
      "0.6666666666666667\n"
     ]
    }
   ],
   "source": [
    "t1 = 'it is weather is scary is is.'\n",
    "t2 = 'the weather is nice is is!'\n",
    "\n",
    "tweet1 = clean_up_tweet(t1)\n",
    "tweet2 = clean_up_tweet(t2)\n"
   ]
  },
  {
   "cell_type": "code",
   "execution_count": null,
   "metadata": {
    "collapsed": true
   },
   "outputs": [],
   "source": []
  }
 ],
 "metadata": {
  "kernelspec": {
   "display_name": "Python 3",
   "language": "python",
   "name": "python3"
  },
  "language_info": {
   "codemirror_mode": {
    "name": "ipython",
    "version": 3
   },
   "file_extension": ".py",
   "mimetype": "text/x-python",
   "name": "python",
   "nbconvert_exporter": "python",
   "pygments_lexer": "ipython3",
   "version": "3.6.1"
  }
 },
 "nbformat": 4,
 "nbformat_minor": 2
}
