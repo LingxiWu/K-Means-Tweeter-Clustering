{
 "cells": [
  {
   "cell_type": "code",
   "execution_count": 1,
   "metadata": {},
   "outputs": [],
   "source": [
    "import string\n",
    "import nltk\n",
    "from nltk.corpus import stopwords\n",
    "#nltk.download() # only need to download for once.\n",
    "import json\n",
    "from pprint import pprint"
   ]
  },
  {
   "cell_type": "code",
   "execution_count": 2,
   "metadata": {},
   "outputs": [],
   "source": [
    "def clean_up_tweet(tweet):\n",
    "    \n",
    "    # remove punctuations.\n",
    "    for p in string.punctuation:\n",
    "        tweet = tweet.replace(p,'')\n",
    "    \n",
    "    tweet = tweet.split(' ')\n",
    "    \n",
    "    # remove stop words.\n",
    "    stopWords = set(stopwords.words('english'))\n",
    "    filtered = []\n",
    "    for w in tweet:\n",
    "        if w not in stopWords:\n",
    "            filtered.append(w)\n",
    "     \n",
    "    # remove redundance.\n",
    "    tweet_set = set(filtered)\n",
    "\n",
    "    return tweet_set\n"
   ]
  },
  {
   "cell_type": "code",
   "execution_count": 3,
   "metadata": {},
   "outputs": [],
   "source": [
    "# find the intersection of two tweets\n",
    "\n",
    "def intersection(tweet1, tweet2):\n",
    "\n",
    "    counter = 0\n",
    "    for word1 in tweet1:\n",
    "        for word2 in tweet2:\n",
    "            if(word1 == word2):\n",
    "                counter += 1\n",
    "            \n",
    "    return counter"
   ]
  },
  {
   "cell_type": "code",
   "execution_count": 4,
   "metadata": {},
   "outputs": [],
   "source": [
    "def union(tweet1, tweet2):\n",
    "    return len(tweet1) + len(tweet2) - intersection(tweet1,tweet2)"
   ]
  },
  {
   "cell_type": "code",
   "execution_count": 5,
   "metadata": {
    "collapsed": true
   },
   "outputs": [],
   "source": [
    "def jaccard_distance(tweet1, tweet2):\n",
    "    return 1 - (intersection(tweet1, tweet2)/union(tweet1, tweet2))"
   ]
  },
  {
   "cell_type": "code",
   "execution_count": 6,
   "metadata": {},
   "outputs": [],
   "source": [
    "def dump_tweets_to_dict(filename):\n",
    "    \n",
    "    # make a new dictionary to store tweets: \n",
    "    # id:text -> 323906397609791488: \"RT @ItsJennaMarbles: Re...\"\n",
    "    tweet_dict = {}\n",
    "    \n",
    "    # open json file to read lines.\n",
    "    with open(filename,'r') as f:\n",
    "        for line in f:\n",
    "            json_data = json.loads(line)\n",
    "            tweet_dict[json_data.get('id')] = json_data.get('text')\n",
    "   \n",
    "    return tweet_dict    \n",
    "    f.closed\n",
    "    \n",
    "        "
   ]
  },
  {
   "cell_type": "code",
   "execution_count": 7,
   "metadata": {
    "scrolled": true
   },
   "outputs": [],
   "source": [
    "def make_initial_centroid_ids():\n",
    "    initial_centroids = [323906397735641088, 323906483584655360, 323906657333682176, 323907258301939713, 323909308188344320, 323913403460636673, 324067437886713856, 324117950774775809, 324138055772561408, 324219503401644033, 324320247018573824, 324346553835868161, 324372750330363904, 324408472441585664, 324422817565257728, 324448013999304704, 324785120085176320, 325059351209443329, 325060324992643072, 325162944931438592, 325253327048822784, 325337623910559745, 325409910642835456, 325701934273134594, 325946633986641920 ] \n",
    "    return initial_centroids\n"
   ]
  },
  {
   "cell_type": "code",
   "execution_count": 8,
   "metadata": {},
   "outputs": [],
   "source": [
    "# tweets is a dictionary of tweets.\n",
    "# centroids is a list of tweet ids chosen as centroids.\n",
    "# returns a dictionary: centroid -> [tweet1, tweet2, ..., tweetn]\n",
    "def clustering(centroids, tweets_dict):\n",
    "    \n",
    "    # cluster_list is a dict: centroid_id -> cluster tweets\n",
    "    cluster_dict = {}\n",
    "\n",
    "    # we first associate each tweet to a cluster centroid.\n",
    "    tweet_centroid_pair = {}\n",
    "    for tweet_id, tweet_text in tweets_dict.items():\n",
    "\n",
    "        # a dictionary to store distance and centroid key.\n",
    "        distances = {}\n",
    "        for centroid_id in centroids:\n",
    "            \n",
    "            tweet = clean_up_tweet(tweet_text)\n",
    "            centroid = clean_up_tweet(tweets_dict.get(centroid_id))\n",
    "            \n",
    "            dist = jaccard_distance(tweet,centroid)\n",
    "            \n",
    "            # add distance to dictionary.\n",
    "            distances[centroid_id] = dist\n",
    "\n",
    "        # find the smallest distance between current tweet to all centroids.\n",
    "        min_dist = min(distances.values())\n",
    "        \n",
    "        target_centroid = None\n",
    "        for key, val in distances.items():\n",
    "            if(val == min_dist):\n",
    "                target_centroid = key\n",
    "                break;\n",
    "        \n",
    "        tweet_centroid_pair[tweet_id] = target_centroid\n",
    "\n",
    "    \n",
    "    for centroid_id in centroids:\n",
    "        cluster = []\n",
    "        for key, val in tweet_centroid_pair.items():\n",
    "            if(val == centroid_id):\n",
    "                cluster.append(key)\n",
    "        cluster_dict[centroid_id] = cluster\n",
    "        \n",
    "    return cluster_dict\n",
    "\n",
    "#print(clustering(make_initial_centroid_ids(),dump_tweets_to_dict('Tweets.json')))"
   ]
  },
  {
   "cell_type": "code",
   "execution_count": 9,
   "metadata": {},
   "outputs": [],
   "source": [
    "# cluster_dict is a dictionary: centroid -> [tweet1, tweet2, ..., tweetn]\n",
    "# tweets_dict is a dictionary: tweet_id -> tweet_context \n",
    "#                              e.g. id:text -> 323906397609791488: \"RT @ItsJennaMarbles: Re...\"\n",
    "# return a list of new centroid ids.\n",
    "\n",
    "def update_centroids(cluster_dict, tweets_dict):\n",
    "    \n",
    "    # Loop through the clusters in cluster_dict (total 25 of them).\n",
    "    updated_centroid_id_list = []\n",
    "    for centroid_id, cluster in cluster_dict.items():\n",
    "        \n",
    "        # Find a tweet that has the shortest total distance to every other points in the current cluster.\n",
    "        dist = 0\n",
    "        dist_lst = []\n",
    "        for i in range(len(cluster)):\n",
    "            for j in range(len(cluster)): \n",
    "                dist += jaccard_distance(clean_up_tweet(tweets_dict.get(cluster[i])),\n",
    "                                         clean_up_tweet(tweets_dict.get(cluster[j])))\n",
    "            dist_lst.append(dist)\n",
    "            dist = 0\n",
    "        shortest_dist_index = dist_lst.index(min(dist_lst)) \n",
    "        \n",
    "        #print(tweets_dict.get(cluster[shortest_dist_index])) \n",
    "        updated_centroid_id_list.append(cluster[shortest_dist_index])\n",
    "    return updated_centroid_id_list\n",
    "\n",
    "# print(update_centroids(clustering(make_initial_centroid_ids(),dump_tweets_to_dict('Tweets.json')),\n",
    "#                  dump_tweets_to_dict('Tweets.json')))    "
   ]
  },
  {
   "cell_type": "code",
   "execution_count": null,
   "metadata": {},
   "outputs": [],
   "source": [
    "def compare_list(list1, list2):\n",
    "    if not list1 or not list2:\n",
    "        return False\n",
    "    return sorted(list1) == sorted(list2)"
   ]
  },
  {
   "cell_type": "code",
   "execution_count": null,
   "metadata": {},
   "outputs": [],
   "source": [
    "# testing...\n",
    "\n",
    "# Read tweets from json and dump them to a dictionary.\n",
    "tweets_dict = dump_tweets_to_dict('Tweets.json')\n",
    "\n",
    "# initial set of centroids.\n",
    "centroids_list = make_initial_centroid_ids()\n",
    "\n",
    "# initial clustering results:\n",
    "cluster_dict = clustering(centroids_list,tweets_dict)\n",
    "\n",
    "while True:\n",
    "    \n",
    "    updated_cetnroids_list = update_centroids(cluster_dict, tweets_dict)\n",
    "    if(compare_list(centroids_list,updated_cetnroids_list)): # if centroids no longer changes\n",
    "        break\n",
    "    else:\n",
    "        centroids_list = updated_cetnroids_list\n",
    "        cluster_dict = clustering(centroids_list,tweets_dict)\n",
    "        \n",
    "\n",
    "print(clustering(updated_cetnroids_list,tweets_dict))\n"
   ]
  },
  {
   "cell_type": "code",
   "execution_count": null,
   "metadata": {
    "collapsed": true
   },
   "outputs": [],
   "source": []
  }
 ],
 "metadata": {
  "kernelspec": {
   "display_name": "Python 3",
   "language": "python",
   "name": "python3"
  },
  "language_info": {
   "codemirror_mode": {
    "name": "ipython",
    "version": 3
   },
   "file_extension": ".py",
   "mimetype": "text/x-python",
   "name": "python",
   "nbconvert_exporter": "python",
   "pygments_lexer": "ipython3",
   "version": "3.6.1"
  }
 },
 "nbformat": 4,
 "nbformat_minor": 2
}
